{
 "cells": [
  {
   "cell_type": "markdown",
   "metadata": {},
   "source": [
    "# This is a test"
   ]
  },
  {
   "cell_type": "code",
   "execution_count": null,
   "metadata": {
    "vscode": {
     "languageId": "shellscript"
    }
   },
   "outputs": [],
   "source": []
  },
  {
   "cell_type": "code",
   "execution_count": null,
   "metadata": {
    "vscode": {
     "languageId": "shellscript"
    }
   },
   "outputs": [],
   "source": [
    "print(\"Hello\")"
   ]
  },
  {
   "cell_type": "code",
   "execution_count": 20,
   "metadata": {},
   "outputs": [
    {
     "name": "stdout",
     "output_type": "stream",
     "text": [
      "Hello Ederick\n",
      "Ederick likes perrywinkle\n"
     ]
    }
   ],
   "source": [
    "name = input(\"What is your name? \")\n",
    "print(\"Hello \" + name)\n",
    "color = input(\"What is your favorite color? \")\n",
    "print(name + \" likes \" + color)"
   ]
  },
  {
   "cell_type": "code",
   "execution_count": 31,
   "metadata": {},
   "outputs": [
    {
     "name": "stdout",
     "output_type": "stream",
     "text": [
      "ennife\n"
     ]
    }
   ],
   "source": [
    "name = \"Jennifer\"\n",
    "print(name[1:-1])\n"
   ]
  },
  {
   "cell_type": "code",
   "execution_count": 12,
   "metadata": {},
   "outputs": [
    {
     "name": "stdout",
     "output_type": "stream",
     "text": [
      "weight: 59.090909090909086\n"
     ]
    }
   ],
   "source": [
    "\n",
    "\n",
    "weight_lbs = input(\"How many pounds do you weigh? \")\n",
    "weight_kilos = int(weight_lbs) / 2.2\n",
    "print(\"weight: \" + str(weight_kilos))"
   ]
  },
  {
   "cell_type": "code",
   "execution_count": 19,
   "metadata": {},
   "outputs": [
    {
     "name": "stdout",
     "output_type": "stream",
     "text": [
      "a is greater than b\n"
     ]
    }
   ],
   "source": [
    "a = 1000.9\n",
    "b = 90\n",
    "b = 1000.89\n",
    "\n",
    "\n",
    "if a > b:\n",
    "    print(\"a is greater than b\")\n",
    "elif a < b:\n",
    "    print(\"b is greater than a\")\n",
    "elif a == b:\n",
    "    print(\"The two variables are equal, silly.\")"
   ]
  },
  {
   "cell_type": "code",
   "execution_count": 35,
   "metadata": {},
   "outputs": [
    {
     "name": "stdout",
     "output_type": "stream",
     "text": [
      "john [smith] is a coder\n"
     ]
    }
   ],
   "source": [
    "first = \"john\"\n",
    "last = \"smith\"\n",
    "# formatted brackets make the text a lot more easy to see, where is defined place holders. While using first + \" [\" + last + \"] is a coder\" works, it gets confusing sometimes.\n",
    "msg = f\"{first} [{last}] is a coder\"\n",
    "print(msg)"
   ]
  },
  {
   "cell_type": "code",
   "execution_count": 37,
   "metadata": {},
   "outputs": [
    {
     "name": "stdout",
     "output_type": "stream",
     "text": [
      "Hello, Ederick\n",
      "200\n"
     ]
    }
   ],
   "source": [
    "name = input(\"What is your name? \")\n",
    "print(\"Hello, \" + name)\n",
    "amongus = 200\n",
    "print(str(amongus))"
   ]
  },
  {
   "cell_type": "code",
   "execution_count": 11,
   "metadata": {},
   "outputs": [
    {
     "ename": "FileNotFoundError",
     "evalue": "[Errno 2] No such file or directory: 'api_key'",
     "output_type": "error",
     "traceback": [
      "\u001b[0;31m---------------------------------------------------------------------------\u001b[0m",
      "\u001b[0;31mFileNotFoundError\u001b[0m                         Traceback (most recent call last)",
      "\u001b[1;32m/home/b3nto4lunch/vscode/Ederick-s-2022-2023-APCSP-Blog/_notebooks/2022-08-22-Python.ipynb Cell 10\u001b[0m in \u001b[0;36m<cell line: 5>\u001b[0;34m()\u001b[0m\n\u001b[1;32m      <a href='vscode-notebook-cell://wsl%2Bubuntu/home/b3nto4lunch/vscode/Ederick-s-2022-2023-APCSP-Blog/_notebooks/2022-08-22-Python.ipynb#X12sdnNjb2RlLXJlbW90ZQ%3D%3D?line=1'>2</a>\u001b[0m \u001b[39mimport\u001b[39;00m \u001b[39mrequests\u001b[39;00m\n\u001b[1;32m      <a href='vscode-notebook-cell://wsl%2Bubuntu/home/b3nto4lunch/vscode/Ederick-s-2022-2023-APCSP-Blog/_notebooks/2022-08-22-Python.ipynb#X12sdnNjb2RlLXJlbW90ZQ%3D%3D?line=3'>4</a>\u001b[0m BASE_URL \u001b[39m=\u001b[39m \u001b[39m\"\u001b[39m\u001b[39mhttp://api.openweathermap.org/data/2.5/weather?\u001b[39m\u001b[39m\"\u001b[39m\n\u001b[0;32m----> <a href='vscode-notebook-cell://wsl%2Bubuntu/home/b3nto4lunch/vscode/Ederick-s-2022-2023-APCSP-Blog/_notebooks/2022-08-22-Python.ipynb#X12sdnNjb2RlLXJlbW90ZQ%3D%3D?line=4'>5</a>\u001b[0m API_KEY \u001b[39m=\u001b[39m \u001b[39mopen\u001b[39;49m(\u001b[39m'\u001b[39;49m\u001b[39mapi_key\u001b[39;49m\u001b[39m'\u001b[39;49m, \u001b[39m'\u001b[39;49m\u001b[39mr\u001b[39;49m\u001b[39m'\u001b[39;49m)\u001b[39m.\u001b[39mread()\n\u001b[1;32m      <a href='vscode-notebook-cell://wsl%2Bubuntu/home/b3nto4lunch/vscode/Ederick-s-2022-2023-APCSP-Blog/_notebooks/2022-08-22-Python.ipynb#X12sdnNjb2RlLXJlbW90ZQ%3D%3D?line=5'>6</a>\u001b[0m CITY \u001b[39m=\u001b[39m \u001b[39m\"\u001b[39m\u001b[39mLondon\u001b[39m\u001b[39m\"\u001b[39m\n\u001b[1;32m      <a href='vscode-notebook-cell://wsl%2Bubuntu/home/b3nto4lunch/vscode/Ederick-s-2022-2023-APCSP-Blog/_notebooks/2022-08-22-Python.ipynb#X12sdnNjb2RlLXJlbW90ZQ%3D%3D?line=7'>8</a>\u001b[0m response \u001b[39m=\u001b[39m requests\u001b[39m.\u001b[39mget(url)\u001b[39m.\u001b[39mjson()\n",
      "\u001b[0;31mFileNotFoundError\u001b[0m: [Errno 2] No such file or directory: 'api_key'"
     ]
    }
   ],
   "source": [
    "import datetime as dt\n",
    "import requests\n",
    "\n",
    "BASE_URL = \"http://api.openweathermap.org/data/2.5/weather?\"\n",
    "API_KEY = open('api_key', 'r').read()\n",
    "CITY = \"London\"\n",
    "\n",
    "response = requests.get(url).json()\n",
    "\n",
    "print(response)"
   ]
  }
 ],
 "metadata": {
  "kernelspec": {
   "display_name": "Python 3.8.10 64-bit",
   "language": "python",
   "name": "python3"
  },
  "language_info": {
   "codemirror_mode": {
    "name": "ipython",
    "version": 3
   },
   "file_extension": ".py",
   "mimetype": "text/x-python",
   "name": "python",
   "nbconvert_exporter": "python",
   "pygments_lexer": "ipython3",
   "version": "3.8.10"
  },
  "orig_nbformat": 4,
  "vscode": {
   "interpreter": {
    "hash": "916dbcbb3f70747c44a77c7bcd40155683ae19c65e1c03b4aa3499c5328201f1"
   }
  }
 },
 "nbformat": 4,
 "nbformat_minor": 2
}
