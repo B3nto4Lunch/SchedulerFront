{
 "cells": [
  {
   "cell_type": "markdown",
   "metadata": {},
   "source": [
    "# API Testing"
   ]
  },
  {
   "cell_type": "code",
   "execution_count": 3,
   "metadata": {},
   "outputs": [
    {
     "name": "stdout",
     "output_type": "stream",
     "text": [
      "Country Totals\n",
      "country_name USA\n",
      "cases 82,649,779\n",
      "deaths 1,018,316\n",
      "region \n",
      "total_recovered 80,434,925\n",
      "new_deaths 0\n",
      "new_cases 0\n",
      "serious_critical 1,465\n",
      "active_cases 1,196,538\n",
      "total_cases_per_1m_population 247,080\n",
      "deaths_per_1m_population 3,044\n",
      "total_tests 1,000,275,726\n",
      "tests_per_1m_population 2,990,303\n"
     ]
    }
   ],
   "source": [
    "import requests\n",
    "\n",
    "url = \"https://corona-virus-world-and-india-data.p.rapidapi.com/api\"\n",
    "\n",
    "headers = {\n",
    "\t\"X-RapidAPI-Key\": \"d484bbc718mshdd2dcfbcf99954bp1222f2jsn6c13602d819c\",\n",
    "\t\"X-RapidAPI-Host\": \"corona-virus-world-and-india-data.p.rapidapi.com\"\n",
    "}\n",
    "\n",
    "response = requests.request(\"GET\", url, headers=headers)\n",
    "\n",
    "#print(response.text)\n",
    "\n",
    "print(\"Country Totals\")\n",
    "country1 = input(\"country\")\n",
    "countries = response.json().get('countries_stat')\n",
    "for country in countries:  # countries is a list\n",
    "    if country[\"country_name\"] == country1:  # this filters for USA\n",
    "        for key, value in country.items():  # this finds key, value pairs in country\n",
    "            print(key, value)"
   ]
  },
  {
   "cell_type": "code",
   "execution_count": 5,
   "metadata": {},
   "outputs": [
    {
     "name": "stdout",
     "output_type": "stream",
     "text": [
      "{'title': 'wetter.com REST API', 'version': '2.3', 'documentation': 'https://tapi.wetter.com/v2.3/documentation/index.html'}\n"
     ]
    }
   ],
   "source": [
    "import requests\n",
    "\n",
    "url = \"https://forecast9.p.rapidapi.com/\"\n",
    "\n",
    "headers = {\n",
    "\t\"X-RapidAPI-Key\": \"d484bbc718mshdd2dcfbcf99954bp1222f2jsn6c13602d819c\",\n",
    "\t\"X-RapidAPI-Host\": \"forecast9.p.rapidapi.com\"\n",
    "}\n",
    "\n",
    "response = requests.request(\"GET\", url, headers=headers)\n",
    "\n",
    "print(response.json())\n",
    "\n"
   ]
  },
  {
   "cell_type": "code",
   "execution_count": 2,
   "metadata": {},
   "outputs": [
    {
     "name": "stdout",
     "output_type": "stream",
     "text": [
      "{\"message\":\"This endpoint is disabled for your subscription\"}\n"
     ]
    }
   ],
   "source": [
    "import requests\n",
    "\n",
    "url = \"https://weatherapi-com.p.rapidapi.com/future.json\"\n",
    "\n",
    "querystring = {\"q\":\"Mexico\",\"dt\":\"2022-12-25\"}\n",
    "\n",
    "headers = {\n",
    "\t\"X-RapidAPI-Key\": \"d484bbc718mshdd2dcfbcf99954bp1222f2jsn6c13602d819c\",\n",
    "\t\"X-RapidAPI-Host\": \"weatherapi-com.p.rapidapi.com\"\n",
    "}\n",
    "\n",
    "response = requests.request(\"GET\", url, headers=headers, params=querystring)\n",
    "\n",
    "print(response.text)"
   ]
  }
 ],
 "metadata": {
  "kernelspec": {
   "display_name": "Python 3.8.10 64-bit",
   "language": "python",
   "name": "python3"
  },
  "language_info": {
   "codemirror_mode": {
    "name": "ipython",
    "version": 3
   },
   "file_extension": ".py",
   "mimetype": "text/x-python",
   "name": "python",
   "nbconvert_exporter": "python",
   "pygments_lexer": "ipython3",
   "version": "3.8.10"
  },
  "orig_nbformat": 4,
  "vscode": {
   "interpreter": {
    "hash": "916dbcbb3f70747c44a77c7bcd40155683ae19c65e1c03b4aa3499c5328201f1"
   }
  }
 },
 "nbformat": 4,
 "nbformat_minor": 2
}
