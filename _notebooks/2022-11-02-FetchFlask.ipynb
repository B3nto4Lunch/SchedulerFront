{
 "cells": [
  {
   "cell_type": "markdown",
   "metadata": {},
   "source": [
    "# Fetch Data from Flask Here:\n",
    "\n",
    "- Do not use this code yet. I copied and pasted from Mort's code, we will be editing this soon."
   ]
  },
  {
   "cell_type": "code",
   "execution_count": null,
   "metadata": {},
   "outputs": [],
   "source": [
    "server = 'https://flask.nighthawkcodingsociety.com/' # run from web server\n",
    "url = server + \"api/jokes/\"\n",
    "responses = []  # responses list\n",
    "\n",
    "# Get the count of jokes on server\n",
    "count_response = requests.get(url+\"count\")\n",
    "count_json = count_response.json()\n",
    "count = count_json['count']\n",
    "\n",
    "# Update likes/dislikes test sequence using random joke\n",
    "num = str(random.randint(0, count-1)) # test a random record\n",
    "responses.append(\n",
    "    requests.get(url+num)  # Get/read joke by id\n",
    "    ) \n",
    "responses.append(\n",
    "    requests.put(url+\"like/\"+num) # Put/add to like count\n",
    "    ) \n",
    "responses.append(\n",
    "    requests.put(url+\"jeer/\"+num) # Put/add to jeer count\n",
    "    ) \n",
    "\n",
    "# Get a random joke\n",
    "responses.append(\n",
    "    requests.get(url+\"random\")  # Get/read a random joke\n",
    "    ) \n",
    "\n",
    "# Cycle through and print responses\n",
    "for response in responses:\n",
    "    print(response)\n",
    "    try:\n",
    "        print(response.json())\n",
    "    except:\n",
    "        print(\"data error\")"
   ]
  }
 ],
 "metadata": {
  "kernelspec": {
   "display_name": "Python 3.8.10 64-bit",
   "language": "python",
   "name": "python3"
  },
  "language_info": {
   "name": "python",
   "version": "3.8.10"
  },
  "orig_nbformat": 4,
  "vscode": {
   "interpreter": {
    "hash": "916dbcbb3f70747c44a77c7bcd40155683ae19c65e1c03b4aa3499c5328201f1"
   }
  }
 },
 "nbformat": 4,
 "nbformat_minor": 2
}
