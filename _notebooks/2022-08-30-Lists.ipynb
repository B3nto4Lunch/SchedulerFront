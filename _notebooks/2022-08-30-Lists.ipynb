{
 "cells": [
  {
   "cell_type": "markdown",
   "metadata": {},
   "source": [
    "# List Practice"
   ]
  },
  {
   "cell_type": "code",
   "execution_count": 10,
   "metadata": {},
   "outputs": [
    {
     "name": "stdout",
     "output_type": "stream",
     "text": [
      "What is my name?\n",
      "name Ederick Wong <class 'str'>\n",
      "\n",
      "What is my age?\n",
      "age 14 <class 'int'>\n",
      "\n",
      "What school do I go to?\n",
      "school Del Norte High school <class 'str'>\n"
     ]
    }
   ],
   "source": [
    "print(\"What is my name?\")\n",
    "name = \"Ederick Wong\"\n",
    "print(\"name\", name, type(name))\n",
    "\n",
    "print()\n",
    "\n",
    "\n",
    "print(\"What is my age?\")\n",
    "age = 14\n",
    "print(\"age\", age, type(age))\n",
    "\n",
    "print()\n",
    "\n",
    "\n",
    "print(\"What school do I go to?\")\n",
    "school = \"Del Norte High school\"\n",
    "print(\"school\", school, type(school))"
   ]
  },
  {
   "cell_type": "code",
   "execution_count": 11,
   "metadata": {},
   "outputs": [],
   "source": [
    "def print_data(d_rec):\n",
    "    print(d_rec[\"name\"], d_rec[\"name\"])  \n",
    "    print(\"\\t\", \"age:\", d_rec[\"age\"]) \n",
    "    print(\"\\t\", \"school:\", d_rec[\"DOB\"])\n",
    "    \n",
    "    print()"
   ]
  }
 ],
 "metadata": {
  "kernelspec": {
   "display_name": "Python 3.8.10 64-bit",
   "language": "python",
   "name": "python3"
  },
  "language_info": {
   "codemirror_mode": {
    "name": "ipython",
    "version": 3
   },
   "file_extension": ".py",
   "mimetype": "text/x-python",
   "name": "python",
   "nbconvert_exporter": "python",
   "pygments_lexer": "ipython3",
   "version": "3.8.10"
  },
  "orig_nbformat": 4,
  "vscode": {
   "interpreter": {
    "hash": "916dbcbb3f70747c44a77c7bcd40155683ae19c65e1c03b4aa3499c5328201f1"
   }
  }
 },
 "nbformat": 4,
 "nbformat_minor": 2
}
