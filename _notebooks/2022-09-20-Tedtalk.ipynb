{
 "cells": [
  {
   "cell_type": "markdown",
   "metadata": {},
   "source": [
    "# Response to Stress Ted Talk"
   ]
  },
  {
   "cell_type": "code",
   "execution_count": 1,
   "metadata": {},
   "outputs": [
    {
     "name": "stdout",
     "output_type": "stream",
     "text": [
      "What can you do to deal with stress?\n",
      "name Listening to music, sleeping, playing video games, hanging out with friends, reading a book, and eating are all methods people use to handle stress <class 'str'>\n",
      "\n",
      "What are signs that you are stressed?\n",
      "age Increased heart rate, anxiety, unease, and sometimes depression are all symptoms of severe stress. <class 'str'>\n",
      "\n",
      "How can you develop good habits to prevent stress?\n",
      "score Creating good habits like a balanced diet, daily exercise, a decent sleep schedule, and not procrastinating can help prevent stress <class 'str'>\n",
      "\n",
      "Give me some info on Stress\n"
     ]
    }
   ],
   "source": [
    "print(\"What can you do to deal with stress?\")\n",
    "name = \"Listening to music, sleeping, playing video games, hanging out with friends, reading a book, and eating are all methods people use to handle stress\"\n",
    "print(\"name\", name, type(name))\n",
    "\n",
    "print()\n",
    "\n",
    "print(\"What are signs that you are stressed?\")\n",
    "age = \"Increased heart rate, anxiety, unease, and sometimes depression are all symptoms of severe stress.\"\n",
    "print(\"age\", age, type(age))\n",
    "\n",
    "print()\n",
    "\n",
    "print(\"How can you develop good habits to prevent stress?\")\n",
    "score = \"Creating good habits like a balanced diet, daily exercise, a decent sleep schedule, and not procrastinating can help prevent stress\"\n",
    "print(\"score\", score, type(score))\n",
    "\n",
    "print()\n",
    "\n",
    "print(\"Give me some info on Stress\")\n",
    "person = {\n",
    "        \"Listening to music, sleeping, playing video games, hanging out with friends, reading a book, and eating are all methods people use to handle stress\" : name,\n",
    "        \"Increased heart rate, anxiety, unease, and sometimes depression are all symptoms of severe stress.\" : age,\n",
    "        \"Creating good habits like a balanced diet, daily exercise, a decent sleep schedule, and not procrastinating can help prevent stress\" : score\n",
    "}\n"
   ]
  },
  {
   "cell_type": "markdown",
   "metadata": {},
   "source": [
    "Someone that helps me reduce stress are my friends online and in person. Most of the time when I'm stressed, I usually play games online or talk about general topics about school or outside activities. I love playing TFPS games like Counter Strike and Valorant and have gotten decent at the games. I love all the games I play with my friends because they give me memories that I will definitely live to laugh by. \n",
    "\n",
    "[Here's a Video Demonstrating my Amazing Skills](https://www.youtube.com/watch?v=dC0v6iTJAqA)\n",
    "\n",
    "I am grateful for my family, friends, and the luxury of having a good school to travel to and having afterschool activities.\n",
    "\n",
    "I want to continue to educate myself so that I can get into a decent college.\n",
    "\n",
    "I Want to make it so that I can make others happy. I want to make my family happy (except my sister of course)\n",
    "\n",
    "Other ways I like to handle stress is draw. I love watching funny shows people recommend to me"
   ]
  }
 ],
 "metadata": {
  "kernelspec": {
   "display_name": "Python 3.8.10 64-bit",
   "language": "python",
   "name": "python3"
  },
  "language_info": {
   "codemirror_mode": {
    "name": "ipython",
    "version": 3
   },
   "file_extension": ".py",
   "mimetype": "text/x-python",
   "name": "python",
   "nbconvert_exporter": "python",
   "pygments_lexer": "ipython3",
   "version": "3.8.10"
  },
  "orig_nbformat": 4,
  "vscode": {
   "interpreter": {
    "hash": "916dbcbb3f70747c44a77c7bcd40155683ae19c65e1c03b4aa3499c5328201f1"
   }
  }
 },
 "nbformat": 4,
 "nbformat_minor": 2
}
