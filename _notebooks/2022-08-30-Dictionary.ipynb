{
 "cells": [
  {
   "cell_type": "markdown",
   "metadata": {},
   "source": []
  },
  {
   "cell_type": "markdown",
   "metadata": {},
   "source": [
    "# Dictionary, Lists, and InfoDB"
   ]
  },
  {
   "cell_type": "code",
   "execution_count": 40,
   "metadata": {},
   "outputs": [
    {
     "name": "stdout",
     "output_type": "stream",
     "text": [
      "What is my name?\n",
      "name Ederick Wong <class 'str'>\n",
      "\n",
      "What is my age?\n",
      "age 14 <class 'int'>\n",
      "\n",
      "What percentage of my grade are for tests?\n",
      "score 75.0 <class 'float'>\n",
      "\n",
      "Give me some info on X\n",
      "What is my name?\n",
      "What is my age?\n",
      "langs ['Python', 'JavaScript', 'Java'] <class 'list'> length 3\n",
      "- langs[0] Python <class 'str'>\n",
      "\n",
      "Basic Info on Me\n",
      "Try to see any changes\n",
      "person {'name': 'Ederick Wong', 'age': 14, 'score': 75.0, 'langs': ['Python', 'JavaScript', 'Java']} <class 'dict'> length 4\n",
      "- person[\"name\"] Ederick Wong <class 'str'>\n",
      "[1, 2, 3, 4]\n",
      "[1, 2, 3, 4]\n",
      "[1, 2, 3, 4]\n",
      "[1, 2, 3, 4]\n"
     ]
    }
   ],
   "source": [
    "print(\"What is my name?\")\n",
    "name = \"Ederick Wong\"\n",
    "print(\"name\", name, type(name))\n",
    "\n",
    "print()\n",
    "\n",
    "print(\"What is my age?\")\n",
    "age = 14\n",
    "print(\"age\", age, type(age))\n",
    "\n",
    "print()\n",
    "\n",
    "print(\"What percentage of my grade are for tests?\")\n",
    "score = 75.0\n",
    "print(\"score\", score, type(score))\n",
    "\n",
    "print()\n",
    "\n",
    "print(\"Give me some info on X\")\n",
    "person = {\n",
    "        \"Ederick\" : name,\n",
    "        \"14\" : 14,\n",
    "        \"90.0\" : 90.0\n",
    "}\n",
    "\n",
    "print(\"What is my name?\")\n",
    "print(\"What is my age?\")\n",
    "langs = [\"Python\", \"JavaScript\", \"Java\"]\n",
    "print(\"langs\", langs, type(langs), \"length\", len(langs))\n",
    "print(\"- langs[0]\", langs[0], type(langs[0]))\n",
    "\n",
    "print()\n",
    "\n",
    "print(\"Basic Info on Me\")\n",
    "print(\"Try to see any changes\")\n",
    "person = {\n",
    "    \"name\": name,\n",
    "    \"age\": age,\n",
    "    \"score\": score,\n",
    "    \"langs\": langs\n",
    "}\n",
    "print(\"person\", person, type(person), \"length\", len(person))\n",
    "print('- person[\"name\"]', person[\"name\"], type(person[\"name\"]))\n",
    "\n",
    "numbers = [1, 2, 3, 4]\n",
    "for x in (numbers):\n",
    "    print(numbers)\n",
    "    \n",
    "    "
   ]
  },
  {
   "cell_type": "code",
   "execution_count": null,
   "metadata": {},
   "outputs": [],
   "source": []
  },
  {
   "cell_type": "code",
   "execution_count": 41,
   "metadata": {},
   "outputs": [
    {
     "name": "stdout",
     "output_type": "stream",
     "text": [
      "['Ederick', 'DNHS', '14']\n"
     ]
    }
   ],
   "source": [
    "dictionary = [\"Ederick\", \"DNHS\", \"14\"]\n",
    "print(dictionary)"
   ]
  },
  {
   "cell_type": "code",
   "execution_count": 42,
   "metadata": {},
   "outputs": [],
   "source": [
    "InfoDB = []\n",
    "InfoDB.append({\n",
    "    \"Name\" : \"Ederick Wong\",\n",
    "    \"Age\" : \"14\",\n",
    "    \"Percentage on Tests\" : \"75.0\",\n",
    "})"
   ]
  }
 ],
 "metadata": {
  "kernelspec": {
   "display_name": "Python 3.8.10 64-bit",
   "language": "python",
   "name": "python3"
  },
  "language_info": {
   "codemirror_mode": {
    "name": "ipython",
    "version": 3
   },
   "file_extension": ".py",
   "mimetype": "text/x-python",
   "name": "python",
   "nbconvert_exporter": "python",
   "pygments_lexer": "ipython3",
   "version": "3.8.10"
  },
  "orig_nbformat": 4,
  "vscode": {
   "interpreter": {
    "hash": "916dbcbb3f70747c44a77c7bcd40155683ae19c65e1c03b4aa3499c5328201f1"
   }
  }
 },
 "nbformat": 4,
 "nbformat_minor": 2
}
