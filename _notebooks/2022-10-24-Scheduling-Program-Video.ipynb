{
 "cells": [
  {
   "cell_type": "markdown",
   "metadata": {},
   "source": [
    "# Programming Schedule Video"
   ]
  },
  {
   "cell_type": "markdown",
   "metadata": {},
   "source": [
    "[Link to the Video](https://www.youtube.com/watch?v=hL29zTqDQ-c)\n",
    "\n",
    "This video has all of our group members our purpose and layout for our programming. All links and resources refered in the video are linked in the description. :)"
   ]
  }
 ],
 "metadata": {
  "language_info": {
   "name": "python"
  },
  "orig_nbformat": 4
 },
 "nbformat": 4,
 "nbformat_minor": 2
}
