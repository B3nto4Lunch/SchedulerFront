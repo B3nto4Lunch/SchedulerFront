{
 "cells": [
  {
   "cell_type": "markdown",
   "metadata": {},
   "source": [
    "# Tech Talk Diagram"
   ]
  },
  {
   "cell_type": "markdown",
   "metadata": {},
   "source": [
    "Our project, more formerly named \"Scheduler,\" is supposed to be a solution towards the plight of many busy students and fauna possess that consists of the inconvenience of being present at an event with the unfortunate weather being a bad combo. Our program will allow the user to create events on a calendar, while also seeing the weather on that specific date to see if they want to cancel it or reschedule their plans.\n",
    "\n",
    "Front End Dev: Alan\n",
    "Back End Dev: Noor and Liav\n",
    "DevOPs: Ederick\n",
    "Scrum Master: Steven\n",
    "\n",
    "We should have the layout done in the next three days of the project and have the software done by the end of project."
   ]
  }
 ],
 "metadata": {
  "kernelspec": {
   "display_name": "Python 3.8.10 64-bit",
   "language": "python",
   "name": "python3"
  },
  "language_info": {
   "name": "python",
   "version": "3.8.10"
  },
  "orig_nbformat": 4,
  "vscode": {
   "interpreter": {
    "hash": "916dbcbb3f70747c44a77c7bcd40155683ae19c65e1c03b4aa3499c5328201f1"
   }
  }
 },
 "nbformat": 4,
 "nbformat_minor": 2
}
