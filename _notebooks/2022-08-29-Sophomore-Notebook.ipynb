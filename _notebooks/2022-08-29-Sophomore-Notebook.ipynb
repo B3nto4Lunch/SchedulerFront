{
 "cells": [
  {
   "cell_type": "markdown",
   "metadata": {},
   "source": [
    "# School Notebook for School 2022-2023"
   ]
  },
  {
   "cell_type": "markdown",
   "metadata": {
    "vscode": {
     "languageId": "shellscript"
    }
   },
   "source": [
    "This will be an \"online notebook\" for things in the future.\n",
    "\n",
    "The courses that I am currently taking are WH, Int IIIa, Chinese, APCSP, and AP Bio\n",
    "\n",
    "Integrated IIIa Calendar:\n",
    "[Integrated IIIa](https://docs.google.com/document/d/1aI_BJORFEkLuE7Q6xc5MRPZno6jRKCvWmNq9AG3nTAU/edit)\n",
    "\n",
    "\n",
    "AP Biology:\n",
    "https://docs.google.com/document/d/1dQvNBH_TDJQEz8DsNwrLZnDGMAPq-IB1Q2LhppIqU70/edit \n",
    "\n"
   ]
  }
 ],
 "metadata": {
  "kernelspec": {
   "display_name": "Python 3.8.10 64-bit",
   "language": "python",
   "name": "python3"
  },
  "language_info": {
   "name": "python",
   "version": "3.8.10"
  },
  "orig_nbformat": 4,
  "vscode": {
   "interpreter": {
    "hash": "916dbcbb3f70747c44a77c7bcd40155683ae19c65e1c03b4aa3499c5328201f1"
   }
  }
 },
 "nbformat": 4,
 "nbformat_minor": 2
}
