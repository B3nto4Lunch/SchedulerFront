{
 "cells": [
  {
   "cell_type": "markdown",
   "metadata": {},
   "source": [
    "# Appdata"
   ]
  },
  {
   "cell_type": "markdown",
   "metadata": {},
   "source": [
    "[Quiz](https://studio.code.org/projects/applab/BYAxwarxtcyBcuCEz2Z1t6Yv2dcq22RKHs--IVU17A0/edit)\n",
    "\n"
   ]
  },
  {
   "cell_type": "markdown",
   "metadata": {},
   "source": [
    "Making this quiz was fairly simple, all I had to keep in mind were what I wanted to implement on the test and how I would record the score if someone picked the wrong answers.\n",
    "On top of my pondering, I also wanted to have a sound based test that would have audio play if you got the question wrong rather than a screen that directed you to whether the question was right or wrong. I used some audio files on my computer to create a yes and no audio.\n",
    "I decided that I would have a subtractive based code to determine one's score, with an initial score of 3, every question that the user gets wrong would subtact a point, therefore making the quiz viable for if you wanted to see the score or not. Either way, the only way to advance to the next question is if the answer selected is correct. I used the OnEvent command for most of it, and then set Screen.\n",
    "I had a lot of fun designing the layout of my quiz. I grabbed a bunch of images from my computer to add some personality to the quiz."
   ]
  },
  {
   "cell_type": "markdown",
   "metadata": {},
   "source": [
    "Furthermore, some part that was challenging during the making of the quiz was that recording the score took a longer time than designing the quiz. I had to make the variable x worth 3 and then for every wrong answer, make it so that the variable is lowered by one. I had a lot of fun making this quiz."
   ]
  }
 ],
 "metadata": {
  "kernelspec": {
   "display_name": "Python 3.8.10 64-bit",
   "language": "python",
   "name": "python3"
  },
  "language_info": {
   "name": "python",
   "version": "3.8.10"
  },
  "orig_nbformat": 4,
  "vscode": {
   "interpreter": {
    "hash": "916dbcbb3f70747c44a77c7bcd40155683ae19c65e1c03b4aa3499c5328201f1"
   }
  }
 },
 "nbformat": 4,
 "nbformat_minor": 2
}
